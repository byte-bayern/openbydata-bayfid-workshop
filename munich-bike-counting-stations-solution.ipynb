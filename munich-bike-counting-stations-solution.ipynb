{
 "cells": [
  {
   "cell_type": "markdown",
   "metadata": {},
   "source": [
    "# Daten der Raddauerzählstellen München - Jahreszahlen\n",
    "\n",
    "## Wie finde ich die Daten?\n",
    "\n",
    "1. Datensatz im Portal öffnen:\n",
    "https://open.bydata.de/datasets/https-opendata-muenchen-de-dataset-daten-der-raddauerzaehlstellen-muenchen-jahreszahlen?locale=de\n",
    "2. Link in Beschreibung (Über diesen Datensatz) öffnen:\n",
    "https://opendata.muenchen.de/pages/raddauerzaehlstellen\n",
    "3. Karte in externem Link öffnen:\n",
    "https://opendata.muenchen.de/dataset/raddauerzaehlstellen-muenchen/resource/211e882d-fadd-468a-bf8a-0014ae65a393?view_id=11a47d6c-0bc1-4bfa-93ea-126089b59c3d\n",
    "\n",
    "![Karte](img/map.png)"
   ]
  },
  {
   "cell_type": "markdown",
   "metadata": {
    "vscode": {
     "languageId": "plaintext"
    }
   },
   "source": [
    "## Wie viele Radfahrende wurden insgesamt seit 2020 bis 2024 gemessen?\n",
    "Lösung:\n",
    "1. Datensatz im Portal öffnen:\n",
    "https://open.bydata.de/datasets/https-opendata-muenchen-de-dataset-daten-der-raddauerzaehlstellen-muenchen-jahreszahlen?locale=de\n",
    "2. Geeignete Distribution finden und Link kopieren:\n",
    "https://opendata.muenchen.de/dataset/022a11ff-4dcb-4f03-b7dd-a6c94a094587/resource/66be7619-a672-4382-bf88-e3688c5abc2b/download/rad_2008_15min_06_06_23_r.csv\n",
    "(Link ist für alle Jahre gleich, nur die Jahreszahl muss geändert werden)\n",
    "3. Einlesen der Werte Downloadlinks mit open.bydata-API\n",
    "4. Einlesen der CSVs mit pandas\n",
    "5. Radfahrende aufsummieren"
   ]
  },
  {
   "cell_type": "code",
   "execution_count": null,
   "metadata": {},
   "outputs": [],
   "source": [
    "import requests\n",
    "import pandas as pd\n",
    "\n",
    "# URL to get the full dataset details\n",
    "api_url = \"https://open.bydata.de/api/hub/search/datasets/https-opendata-muenchen-de-dataset-daten-der-raddauerzaehlstellen-muenchen-jahreszahlen\"\n",
    "\n",
    "# Function to get download links from the API response\n",
    "def get_download_links(api_url):\n",
    "    response = requests.get(api_url)\n",
    "    if response.status_code == 200:\n",
    "        data = response.json()\n",
    "        distributions = data['result']['distributions']\n",
    "        download_links = {}\n",
    "        for dist in distributions:\n",
    "            title = dist['title']['de']\n",
    "            year = title.split()[-1]  # Extract year from the title\n",
    "            if \"15 Minuten Werte\" in title or \"15 Minuten Werte\" in title:  # Ensure we only get relevant links\n",
    "                download_links[int(year)] = dist['access_url'][0]\n",
    "        return download_links\n",
    "    else:\n",
    "        print(f\"Failed to retrieve data from API. Status code: {response.status_code}\")\n",
    "        return {}\n",
    "\n",
    "# Get the download links\n",
    "download_links = get_download_links(api_url)\n",
    "print(download_links)"
   ]
  },
  {
   "cell_type": "code",
   "execution_count": null,
   "metadata": {},
   "outputs": [],
   "source": [
    "# Function to download and process the data for a given year\n",
    "def process_year(year, url):\n",
    "    try:\n",
    "        df = pd.read_csv(url, low_memory=False)\n",
    "        print(f\"Processed year {year}.\")\n",
    "        return df\n",
    "    except (pd.errors.ParserError, FileNotFoundError) as e:\n",
    "        print(f\"Error processing year {year}: {e}\")\n",
    "        return pd.DataFrame()  # Return an empty dataframe in case of error\n",
    "\n",
    "# Create a dictionary to store the dataframe for each year\n",
    "dataframes_per_year = {}\n",
    "\n",
    "# Process each year and store the dataframe\n",
    "for year, url in download_links.items():\n",
    "    if year in range(2020,2025):\n",
    "        dataframes_per_year[year] = process_year(year, url)"
   ]
  },
  {
   "cell_type": "code",
   "execution_count": null,
   "metadata": {},
   "outputs": [],
   "source": [
    "dataframes_per_year[2022].info()"
   ]
  },
  {
   "cell_type": "code",
   "execution_count": null,
   "metadata": {},
   "outputs": [],
   "source": [
    "dataframes_per_year[2022].head()"
   ]
  },
  {
   "cell_type": "code",
   "execution_count": null,
   "metadata": {},
   "outputs": [],
   "source": [
    "# Calculate the total number of cyclists over all years\n",
    "total_cyclists = sum([df['gesamt'].dropna().sum() for df in dataframes_per_year.values()])\n",
    "\n",
    "# Output the total number of cyclists measured from 2009 to 2023\n",
    "print(f\"Total number of cyclists measured from 2020 to 2024: {total_cyclists}\")"
   ]
  },
  {
   "cell_type": "markdown",
   "metadata": {},
   "source": [
    "## Wie viele Radfahrer wurden in München im Schnitt pro Jahr gemessen"
   ]
  },
  {
   "cell_type": "code",
   "execution_count": null,
   "metadata": {},
   "outputs": [],
   "source": [
    "# Calculate the average number of cyclists per year\n",
    "average_cyclists_per_year = total_cyclists / len(dataframes_per_year)\n",
    "\n",
    "# Print the average number of cyclists per year\n",
    "print(f\"Average number of cyclists per year from 2020 to 2024: {average_cyclists_per_year}\")"
   ]
  },
  {
   "cell_type": "markdown",
   "metadata": {},
   "source": [
    "## Wie viele Radfahrer gab es im Schnitt pro Tag im gegebenen Zeitraum?"
   ]
  },
  {
   "cell_type": "code",
   "execution_count": null,
   "metadata": {},
   "outputs": [],
   "source": [
    "\n",
    "unique_dates = set(value for sublist in [dataframes_per_year[year].datum.unique() for year in dataframes_per_year.keys()] for value in sublist)\n",
    "\n",
    "total_days = len(unique_dates)\n",
    "\n",
    "avg_cyclists_per_day = total_cyclists / total_days\n",
    "\n",
    "# Print the average number of cyclists per day\n",
    "print(f\"Average number of cyclists per day from 2020 to 2024: {avg_cyclists_per_day:.2f}\")"
   ]
  },
  {
   "cell_type": "markdown",
   "metadata": {},
   "source": [
    "##  Wie sieht die Gesamtentwicklung der Radfahrenden pro Jahr im Zeitraum von 2022-2024 aus (alle Zählstellen)?"
   ]
  },
  {
   "cell_type": "code",
   "execution_count": null,
   "metadata": {},
   "outputs": [],
   "source": [
    "import matplotlib.pyplot as plt\n",
    "\n",
    "# Calculate the total number of cyclists per year correctly\n",
    "total_cyclists_per_year = {}\n",
    "for year, df in dataframes_per_year.items():\n",
    "    if not df.empty:\n",
    "        total_cyclists_per_year[year] = df['gesamt'].dropna().sum()\n",
    "\n",
    "# Sort the dictionary by year to ensure correct chronological order\n",
    "sorted_total_cyclists_per_year = dict(sorted(total_cyclists_per_year.items()))\n",
    "\n",
    "# Extract years and totals into lists for plotting\n",
    "years = list(sorted_total_cyclists_per_year.keys())\n",
    "totals = list(sorted_total_cyclists_per_year.values())\n",
    "\n",
    "# Plot the total number of cyclists per year\n",
    "plt.figure(figsize=(10, 6))\n",
    "plt.plot(years, totals)\n",
    "plt.xlabel('Year')\n",
    "plt.ylabel('Total Number of Cyclists')\n",
    "plt.title('Total Number of Cyclists per Year (2020-2024)')\n",
    "plt.grid(True)\n",
    "plt.show()\n",
    "\n",
    "# Print the yearly totals for verification\n",
    "print(\"Yearly totals:\", sorted_total_cyclists_per_year)"
   ]
  },
  {
   "cell_type": "markdown",
   "metadata": {},
   "source": [
    "## Jährlicher Verlauf - Zählstellen im Vergleich: In welchen Monaten radeln die Münchner am liebsten?"
   ]
  },
  {
   "cell_type": "code",
   "execution_count": null,
   "metadata": {},
   "outputs": [],
   "source": [
    "# Function to determine the total cyclists per month across different counting stations\n",
    "def get_monthly_totals(df):\n",
    "    if df.empty:\n",
    "        return pd.Series()\n",
    "    df['datum'] = pd.to_datetime(df['datum'])\n",
    "    monthly_totals = df.groupby(df['datum'].dt.month)['gesamt'].sum()\n",
    "    return monthly_totals\n",
    "\n",
    "# Initialize a dictionary to store monthly totals for all years and counting stations\n",
    "monthly_totals_per_year = {year: get_monthly_totals(df) for year, df in dataframes_per_year.items() if not df.empty}\n",
    "\n",
    "# Combine the monthly totals into a single dataframe\n",
    "combined_monthly_totals = pd.DataFrame(monthly_totals_per_year).fillna(0)  # Fill NA with 0 for missing data\n",
    "\n",
    "# Calculate the average number of cyclists per month across all years\n",
    "average_monthly_totals = combined_monthly_totals.mean(axis=1)\n",
    "\n",
    "# Plot the average number of cyclists per month\n",
    "plt.figure(figsize=(12, 6))\n",
    "average_monthly_totals.plot(kind='bar', color='skyblue')\n",
    "plt.xlabel('Month')\n",
    "plt.ylabel('Average Number of Cyclists')\n",
    "plt.title('Average Number of Cyclists per Month (2020-2024)')\n",
    "plt.xticks(range(12), ['Jan', 'Feb', 'Mar', 'Apr', 'May', 'Jun', 'Jul', 'Aug', 'Sep', 'Oct', 'Nov', 'Dec'])\n",
    "plt.grid(True)\n",
    "plt.show()"
   ]
  },
  {
   "cell_type": "markdown",
   "metadata": {},
   "source": [
    "## Freizeitverhalten versus Nutzung des Fahrrads für den Weg zur Arbeit: Auf welchen Strecken wird mehr unter der Woche geradelt, auf welchen Strecken mehr am Wochenende?"
   ]
  },
  {
   "cell_type": "code",
   "execution_count": null,
   "metadata": {},
   "outputs": [],
   "source": [
    "# Helper function to preprocess the dataframe\n",
    "def preprocess_df(df):\n",
    "    df['datum'] = pd.to_datetime(df['datum'])\n",
    "    df['richtung_1'] = pd.to_numeric(df['richtung_1'], errors='coerce')\n",
    "    df['richtung_2'] = pd.to_numeric(df['richtung_2'], errors='coerce')\n",
    "    df['gesamt'] = pd.to_numeric(df['gesamt'], errors='coerce')\n",
    "    return df\n",
    "\n",
    "# Preprocess all dataframes in the dictionary to ensure numeric columns\n",
    "dataframes_per_year = {year: preprocess_df(df) for year, df in dataframes_per_year.items()}\n",
    "\n",
    "# Function to determine the total cyclists per day of the week\n",
    "def get_weekday_weekend_totals(df):\n",
    "    if df.empty:\n",
    "        return pd.Series(), pd.Series()\n",
    "    \n",
    "    df['weekday'] = df['datum'].dt.dayofweek\n",
    "    df['total'] = df['richtung_1'].fillna(0) + df['richtung_2'].fillna(0)\n",
    "    \n",
    "    weekday_totals = df[df['weekday'] < 5].groupby('zaehlstelle')['total'].sum()  # Monday (0) to Friday (4)\n",
    "    weekend_totals = df[df['weekday'] >= 5].groupby('zaehlstelle')['total'].sum()  # Saturday (5) and Sunday (6)\n",
    "    \n",
    "    return weekday_totals, weekend_totals\n",
    "\n",
    "# Initialize dictionaries to store totals for weekdays and weekends\n",
    "weekday_totals = {}\n",
    "weekend_totals = {}\n",
    "\n",
    "for year, df in dataframes_per_year.items():\n",
    "    weekly_totals, weekend_totals_year = get_weekday_weekend_totals(df)\n",
    "    if not weekly_totals.empty:\n",
    "        for zaehlstelle, total in weekly_totals.items():\n",
    "            if zaehlstelle in weekday_totals:\n",
    "                weekday_totals[zaehlstelle] += total\n",
    "            else:\n",
    "                weekday_totals[zaehlstelle] = total\n",
    "    if not weekend_totals_year.empty:\n",
    "        for zaehlstelle, total in weekend_totals_year.items():\n",
    "            if zaehlstelle in weekend_totals:\n",
    "                weekend_totals[zaehlstelle] += total\n",
    "            else:\n",
    "                weekend_totals[zaehlstelle] = total\n",
    "\n",
    "# Convert the totals dictionaries to pandas Series for easier handling\n",
    "weekday_totals_series = pd.Series(weekday_totals)\n",
    "weekend_totals_series = pd.Series(weekend_totals)\n",
    "\n",
    "# Plot the weekday versus weekend totals for each counting station\n",
    "plt.figure(figsize=(14, 7))\n",
    "bar_width = 0.35\n",
    "index = range(len(weekday_totals_series))\n",
    "\n",
    "plt.bar(index, weekday_totals_series, bar_width, label='Weekdays', color='skyblue')\n",
    "plt.bar([i + bar_width for i in index], weekend_totals_series, bar_width, label='Weekends', color='lightcoral')\n",
    "\n",
    "plt.xlabel('Counting Station')\n",
    "plt.ylabel('Total Number of Cyclists')\n",
    "plt.title('Total Number of Cyclists per Counting Station: Weekdays vs Weekends')\n",
    "plt.xticks([i + bar_width / 2 for i in index], weekday_totals_series.index, rotation=90)\n",
    "plt.legend()\n",
    "plt.show()"
   ]
  },
  {
   "cell_type": "markdown",
   "metadata": {},
   "source": [
    "## Welche Jahre waren die Jahre, in denen in München am meisten Fahrrad gefahren wurde?"
   ]
  },
  {
   "cell_type": "code",
   "execution_count": null,
   "metadata": {},
   "outputs": [],
   "source": [
    "# Preprocess all dataframes in the dictionary to ensure numeric columns\n",
    "dataframes_per_year = {year: preprocess_df(df) for year, df in dataframes_per_year.items()}\n",
    "\n",
    "# Calculate the total number of cyclists for each year\n",
    "total_cyclists_per_year = {year: df['gesamt'].dropna().sum() for year, df in dataframes_per_year.items() if not df.empty}\n",
    "\n",
    "# Convert the totals to a pandas series and sort by total cyclists descending\n",
    "total_cyclists_series = pd.Series(total_cyclists_per_year).sort_values(ascending=False)\n",
    "\n",
    "# Find the years with the highest totals\n",
    "top_years = total_cyclists_series.index[:5]  # Change this number to get more or fewer top years\n",
    "top_values = total_cyclists_series.values[:5]\n",
    "\n",
    "# Print the years with the highest cycling activity\n",
    "print(\"Years with the highest cycling activity in Munich:\")\n",
    "for year, total in zip(top_years, top_values):\n",
    "    print(f\"{year}: {total:.0f} cyclists\")\n",
    "\n",
    "# Plot the total number of cyclists per year\n",
    "plt.figure(figsize=(10, 6))\n",
    "plt.bar(total_cyclists_series.index.astype(str), total_cyclists_series.values, color='skyblue')\n",
    "plt.xlabel('Year')\n",
    "plt.ylabel('Total Number of Cyclists')\n",
    "plt.title('Total Number of Cyclists per Year (2020-2024)')\n",
    "plt.xticks(rotation=45)\n",
    "plt.grid(True)\n",
    "plt.show()"
   ]
  }
 ],
 "metadata": {
  "kernelspec": {
   "display_name": "foerderrichtliniengenerator",
   "language": "python",
   "name": "python3"
  },
  "language_info": {
   "codemirror_mode": {
    "name": "ipython",
    "version": 3
   },
   "file_extension": ".py",
   "mimetype": "text/x-python",
   "name": "python",
   "nbconvert_exporter": "python",
   "pygments_lexer": "ipython3",
   "version": "3.11.7"
  }
 },
 "nbformat": 4,
 "nbformat_minor": 2
}

